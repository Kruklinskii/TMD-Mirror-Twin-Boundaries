{
 "cells": [
  {
   "cell_type": "code",
   "execution_count": 1,
   "id": "91f1ac95-02c5-42be-b0ee-11573a771506",
   "metadata": {},
   "outputs": [
    {
     "data": {
      "application/vnd.jupyter.widget-view+json": {
       "model_id": "6997f51c1bab4417b0e972558226418c",
       "version_major": 2,
       "version_minor": 0
      },
      "text/plain": []
     },
     "metadata": {},
     "output_type": "display_data"
    }
   ],
   "source": [
    "from pymatgen.core import Structure, Lattice\n",
    "from pymatgen.io.vasp import Poscar\n",
    "from pymatgen.io.vasp import Vasprun\n",
    "from pymatgen.io.vasp.outputs import CompleteDos\n",
    "from pymatgen.symmetry.bandstructure import HighSymmKpath\n",
    "from pymatgen.electronic_structure.bandstructure import BandStructureSymmLine\n",
    "from pymatgen.electronic_structure.dos import Dos\n",
    "from pymatgen.electronic_structure.plotter import BSPlotter, BSDOSPlotter, BSPlotterProjected, DosPlotter\n",
    "from pymatgen.electronic_structure.core import Spin\n",
    "from pymatgen.core.operations import SymmOp\n",
    "import matplotlib.pyplot as plt\n",
    "import numpy as np\n",
    "import nglview as nv\n",
    "from nglview.shape import Shape"
   ]
  },
  {
   "cell_type": "raw",
   "id": "14d5795f-2b8b-4679-9876-b603258327b0",
   "metadata": {},
   "source": [
    "# Load the structure from vasprun.xml file\n",
    "structure = Structure.from_file(\"POSCAR\")  # Replace with your file\n",
    "primitive_structure = structure.get_primitive_structure()"
   ]
  },
  {
   "cell_type": "raw",
   "id": "9247461c-231e-41d0-a945-074db2010ef5",
   "metadata": {},
   "source": [
    "def reorient_lattice_vectors(structure: Structure) -> Structure:\n",
    "    a = structure.lattice.matrix[0]\n",
    "    b = structure.lattice.matrix[1]\n",
    "    c = structure.lattice.matrix[2]\n",
    "    matrix = structure.lattice.matrix.copy()\n",
    "    \n",
    "    if (a[0] < 0 and a[1] < 0) or (a[0] > 0 and a[1] < 0):\n",
    "        matrix[0] = -matrix[0]\n",
    "\n",
    "    if (b[0] < 0 and b[1] < 0) or (b[0] > 0 and b[1] < 0):\n",
    "        matrix[1] = -matrix[1]\n",
    "\n",
    "    if c[2] < 0:\n",
    "        matrix[2] = -matrix[2]\n",
    "\n",
    "    # Create a new Lattice object\n",
    "    new_lattice = Lattice(matrix)\n",
    "\n",
    "    # Recreate the structure with the new lattice\n",
    "    new_structure = Structure(\n",
    "        lattice=new_lattice, \n",
    "        species=structure.species, \n",
    "        coords=structure.frac_coords, \n",
    "        coords_are_cartesian=False\n",
    "    )\n",
    "\n",
    "    return new_structure\n",
    "    \n",
    "primitive_structure = reorient_lattice_vectors(primitive_structure).get_primitive_structure()"
   ]
  },
  {
   "cell_type": "code",
   "execution_count": 63,
   "id": "ec0aac1c-33ca-42d6-bd97-ee11f47e87c3",
   "metadata": {},
   "outputs": [],
   "source": [
    "# Define the lattice parameters for hexagonal MoS2\n",
    "a = 3.19  # Lattice constant 'a' in angstroms\n",
    "c = 14.879  # Lattice constant 'c' in angstroms\n",
    "\n",
    "# Define the hexagonal lattice\n",
    "lattice = Lattice.hexagonal(a, c)\n",
    "\n",
    "# Atomic basis positions for Mo and S\n",
    "species = [\"Mo\", \"S\", \"S\"]\n",
    "frac_coords = [\n",
    "    [0.000, 0.000, 0.25],  # Mo atom\n",
    "    [2/3, 1/3, 0.1448],        # S atom\n",
    "    [2/3, 1/3, \t0.3552],        # S atom\n",
    "]\n",
    "\n",
    "# Build the MoS2 structure\n",
    "mos2_structure = Structure(lattice, species, frac_coords)"
   ]
  },
  {
   "cell_type": "code",
   "execution_count": 151,
   "id": "6e1b8186-1b01-4bf8-8fb5-b91791b3fb8f",
   "metadata": {},
   "outputs": [
    {
     "name": "stdout",
     "output_type": "stream",
     "text": [
      "Full Formula (Mo1 S2)\n",
      "Reduced Formula: MoS2\n",
      "abc   :   3.190000   3.190000  14.879000\n",
      "angles:  90.000000  90.000000 120.000000\n",
      "pbc   :       True       True       True\n",
      "Sites (3)\n",
      "  #  SP           a         b       c\n",
      "---  ----  --------  --------  ------\n",
      "  0  Mo    0         0         0.25\n",
      "  1  S     0.666667  0.333333  0.1448\n",
      "  2  S     0.666667  0.333333  0.3552\n",
      "3.190000 0.000000 0.000000\n",
      "-1.595000 2.762621 0.000000\n",
      "0.000000 0.000000 14.879000\n",
      "[[ 3.19000000e+00  0.00000000e+00  1.95331164e-16]\n",
      " [-1.59500000e+00  2.76262104e+00  1.95331164e-16]\n",
      " [ 0.00000000e+00  0.00000000e+00  1.48790000e+01]]\n"
     ]
    }
   ],
   "source": [
    "print(mos2_structure)\n",
    "print(mos2_structure.lattice)\n",
    "#print(mos2_structure.lattice.matrix)"
   ]
  },
  {
   "cell_type": "code",
   "execution_count": 160,
   "id": "51c20530-b2cf-43c0-a113-72d7f4c88466",
   "metadata": {},
   "outputs": [
    {
     "name": "stdout",
     "output_type": "stream",
     "text": [
      "Full Formula (Mo9 S18)\n",
      "Reduced Formula: MoS2\n",
      "abc   :   9.570000   9.570000  14.879000\n",
      "angles:  90.000000  90.000000 120.000000\n",
      "pbc   :       True       True       True\n",
      "Sites (27)\n",
      "  #  SP           a         b       c\n",
      "---  ----  --------  --------  ------\n",
      "  0  Mo    0         0         0.25\n",
      "  1  Mo    0         0.333333  0.25\n",
      "  2  Mo    0         0.666667  0.25\n",
      "  3  Mo    0.333333  0         0.25\n",
      "  4  Mo    0.333333  0.333333  0.25\n",
      "  5  Mo    0.333333  0.666667  0.25\n",
      "  6  Mo    0.666667  0         0.25\n",
      "  7  Mo    0.666667  0.333333  0.25\n",
      "  8  Mo    0.666667  0.666667  0.25\n",
      "  9  S     0.222222  0.111111  0.1448\n",
      " 10  S     0.222222  0.444444  0.1448\n",
      " 11  S     0.222222  0.777778  0.1448\n",
      " 12  S     0.555556  0.111111  0.1448\n",
      " 13  S     0.555556  0.444444  0.1448\n",
      " 14  S     0.555556  0.777778  0.1448\n",
      " 15  S     0.888889  0.111111  0.1448\n",
      " 16  S     0.888889  0.444444  0.1448\n",
      " 17  S     0.888889  0.777778  0.1448\n",
      " 18  S     0.222222  0.111111  0.3552\n",
      " 19  S     0.222222  0.444444  0.3552\n",
      " 20  S     0.222222  0.777778  0.3552\n",
      " 21  S     0.555556  0.111111  0.3552\n",
      " 22  S     0.555556  0.444444  0.3552\n",
      " 23  S     0.555556  0.777778  0.3552\n",
      " 24  S     0.888889  0.111111  0.3552\n",
      " 25  S     0.888889  0.444444  0.3552\n",
      " 26  S     0.888889  0.777778  0.3552\n"
     ]
    },
    {
     "data": {
      "application/vnd.jupyter.widget-view+json": {
       "model_id": "90d1b7655fef43e99d3d941672c05cb3",
       "version_major": 2,
       "version_minor": 0
      },
      "text/plain": [
       "NGLWidget()"
      ]
     },
     "metadata": {},
     "output_type": "display_data"
    }
   ],
   "source": [
    "# Define the scaling matrix for replication\n",
    "scaling_matrix = [[3, 0, 0],\n",
    "                  [0, 3, 0],\n",
    "                  [0, 0, 1]]\n",
    "\n",
    "# Create the supercell\n",
    "supercell = mos2_structure.make_supercell(scaling_matrix, in_place=False)\n",
    "\n",
    "matrix = supercell.lattice.matrix.copy()\n",
    "\n",
    "matrix[0] *= 2\n",
    "matrix[1] *= 2\n",
    "\n",
    "# Create a new Lattice object\n",
    "new_lattice = Lattice(matrix)\n",
    "\n",
    "# Recreate the structure with the new lattice\n",
    "#supercell = Structure(\n",
    "#    lattice=new_lattice, \n",
    "#    species=supercell.species, \n",
    "#    coords=supercell.cart_coords, \n",
    "#    coords_are_cartesian=True\n",
    "#    )\n",
    "\n",
    "print(supercell)\n",
    "sites_to_remove = [1,2,5, ]\n",
    "supercell.remove_sites(sites_to_remove)\n",
    "\n",
    "# Create a viewer using nglview (for Jupyter Notebooks)\n",
    "view = nv.show_pymatgen(supercell)\n",
    "view.clear_representations()\n",
    "view.add_unitcell()  # Show the unit cell\n",
    "view.add_representation('ball+stick', color='element')\n",
    "view"
   ]
  },
  {
   "cell_type": "code",
   "execution_count": 137,
   "id": "eedc8c13-460e-437a-90b4-b4b94b256588",
   "metadata": {},
   "outputs": [
    {
     "data": {
      "application/vnd.jupyter.widget-view+json": {
       "model_id": "926e2d6c083c4a66834bad5ba6ccc118",
       "version_major": 2,
       "version_minor": 0
      },
      "text/plain": [
       "NGLWidget()"
      ]
     },
     "metadata": {},
     "output_type": "display_data"
    }
   ],
   "source": [
    "# Define the reflection plane (60 degrees)\n",
    "#reflection_matrix = np.array([[-0.5, np.sqrt(3)/2, 0], [np.sqrt(3)/2, 0.5, 0], [0, 0, 1]])\n",
    "#reflection_matrix = np.array([[1, 0, 0], [0, -1, 0], [0, 0, 1]])\n",
    "reflection_matrix = np.array([[-0.5, np.sqrt(3)/2, 0], [np.sqrt(3)/2, 0.5, 0], [0, 0, 1]])\n",
    "\n",
    "translation_vector = np.array([0, 1/2, 0])\n",
    "translation_vector = translation_vector[0]*matrix[0] + translation_vector[1]*matrix[1] + translation_vector[2]*matrix[2]\n",
    "\n",
    "# Define the reflection operation with translation\n",
    "reflection_op = SymmOp.from_rotation_and_translation(\n",
    "    rotation_matrix=reflection_matrix,\n",
    "    translation_vec=translation_vector\n",
    ")\n",
    "\n",
    "# Apply reflection operation\n",
    "reflected_structure = supercell.copy()\n",
    "reflected_structure.apply_operation(reflection_op)\n",
    "\n",
    "# Combine the original and reflected structures\n",
    "combined_structure = supercell.copy()\n",
    "for site in reflected_structure:\n",
    "    combined_structure.append(site.species, site.coords, coords_are_cartesian=True)\n",
    "\n",
    "translation_vector = np.array([0, 0, 0])\n",
    "translation_vector = translation_vector[0]*matrix[0] + translation_vector[1]*matrix[1] + translation_vector[2]*matrix[2]\n",
    "\n",
    "reflection_op = SymmOp.from_rotation_and_translation(\n",
    "    translation_vec=translation_vector\n",
    ")\n",
    "combined_structure.apply_operation(reflection_op)\n",
    "\n",
    "# Create a viewer using nglview (for Jupyter Notebooks)\n",
    "view = nv.show_pymatgen(combined_structure)\n",
    "view.clear_representations()\n",
    "view.add_unitcell()  # Show the unit cell\n",
    "view.add_representation('ball+stick', color='element')\n",
    "view"
   ]
  },
  {
   "cell_type": "code",
   "execution_count": 107,
   "id": "869206ab-58d5-468c-9229-80bb34532790",
   "metadata": {},
   "outputs": [
    {
     "data": {
      "application/vnd.jupyter.widget-view+json": {
       "model_id": "75260f00f3314e50b4dcdbabce19b7d3",
       "version_major": 2,
       "version_minor": 0
      },
      "text/plain": [
       "NGLWidget()"
      ]
     },
     "metadata": {},
     "output_type": "display_data"
    }
   ],
   "source": [
    "# Define the scaling matrix for replication\n",
    "scaling_matrix = [[2, 0, 0],\n",
    "                  [0, 1, 0],\n",
    "                  [0, 0, 1]]\n",
    "\n",
    "# Create the supercell\n",
    "combined_structure.make_supercell(scaling_matrix, in_place=True)\n",
    "\n",
    "# Create a viewer using nglview (for Jupyter Notebooks)`\n",
    "view = nv.show_pymatgen(combined_structure)\n",
    "view.clear_representations()\n",
    "view.add_unitcell()  # Show the unit cell\n",
    "view.add_representation('ball+stick', color='element')\n",
    "view"
   ]
  },
  {
   "cell_type": "code",
   "execution_count": 47,
   "id": "e9e25cec-ce4d-44c5-bb92-1e751b4030fc",
   "metadata": {},
   "outputs": [
    {
     "data": {
      "application/vnd.jupyter.widget-view+json": {
       "model_id": "aa082a3b6ba245a3b5ea4de56c9fa360",
       "version_major": 2,
       "version_minor": 0
      },
      "text/plain": [
       "NGLWidget()"
      ]
     },
     "metadata": {},
     "output_type": "display_data"
    }
   ],
   "source": [
    "# Define the scaling matrix for replication\n",
    "scaling_matrix = [[1, 0, 0],\n",
    "                  [0, 1, 0],\n",
    "                  [0, 0, 1]]\n",
    "\n",
    "# Create the supercell\n",
    "combined_super_structure = combined_structure.make_supercell(scaling_matrix, in_place=False)\n",
    "\n",
    "# Create a viewer using nglview (for Jupyter Notebooks)\n",
    "view = nv.show_pymatgen(combined_super_structure)\n",
    "view.clear_representations()\n",
    "view.add_unitcell()  # Show the unit cell\n",
    "view.add_representation('ball+stick', color='element')\n",
    "view"
   ]
  },
  {
   "cell_type": "code",
   "execution_count": null,
   "id": "7460a824-9598-4085-8dbe-964144184db4",
   "metadata": {},
   "outputs": [],
   "source": [
    "print()"
   ]
  }
 ],
 "metadata": {
  "kernelspec": {
   "display_name": "Python 3 (ipykernel)",
   "language": "python",
   "name": "python3"
  },
  "language_info": {
   "codemirror_mode": {
    "name": "ipython",
    "version": 3
   },
   "file_extension": ".py",
   "mimetype": "text/x-python",
   "name": "python",
   "nbconvert_exporter": "python",
   "pygments_lexer": "ipython3",
   "version": "3.9.20"
  }
 },
 "nbformat": 4,
 "nbformat_minor": 5
}
